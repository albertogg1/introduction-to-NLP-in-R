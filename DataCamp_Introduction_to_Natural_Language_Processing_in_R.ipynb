{
  "nbformat": 4,
  "nbformat_minor": 0,
  "metadata": {
    "colab": {
      "provenance": [],
      "toc_visible": true,
      "authorship_tag": "ABX9TyPrOXCwR//Vhpjj061abwdY",
      "include_colab_link": true
    },
    "kernelspec": {
      "name": "ir",
      "display_name": "R"
    },
    "language_info": {
      "name": "R"
    }
  },
  "cells": [
    {
      "cell_type": "markdown",
      "metadata": {
        "id": "view-in-github",
        "colab_type": "text"
      },
      "source": [
        "<a href=\"https://colab.research.google.com/github/albertogg1/introduction-to-NLP-in-R/blob/main/DataCamp_Introduction_to_Natural_Language_Processing_in_R.ipynb\" target=\"_parent\"><img src=\"https://colab.research.google.com/assets/colab-badge.svg\" alt=\"Open In Colab\"/></a>"
      ]
    },
    {
      "cell_type": "markdown",
      "source": [
        "# 1. True Fundamentals"
      ],
      "metadata": {
        "id": "ePOTaFwNnxRN"
      }
    },
    {
      "cell_type": "markdown",
      "source": [
        "## Practicing syntax with grep"
      ],
      "metadata": {
        "id": "NnZAGARVn5Cd"
      }
    },
    {
      "cell_type": "markdown",
      "source": [
        "```\n",
        "# Print off each item that contained a numeric number\n",
        "___(pattern = ___, x = text, value = TRUE)\n",
        "\n",
        "# Find all items with a number followed by a space\n",
        "___(pattern = ___, x = text)\n",
        "\n",
        "# How many times did you write down 'favorite'?\n",
        "length(___(pattern = ___, x = text))```"
      ],
      "metadata": {
        "id": "lmPAavTvoG8E"
      }
    },
    {
      "cell_type": "code",
      "source": [],
      "metadata": {
        "id": "EBDbWizvn3Yy"
      },
      "execution_count": null,
      "outputs": []
    }
  ]
}